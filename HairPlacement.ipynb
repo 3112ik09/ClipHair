{
 "cells": [
  {
   "cell_type": "code",
   "execution_count": 1,
   "metadata": {},
   "outputs": [
    {
     "name": "stderr",
     "output_type": "stream",
     "text": [
      "/home/ishant/.local/lib/python3.8/site-packages/tqdm/auto.py:22: TqdmWarning: IProgress not found. Please update jupyter and ipywidgets. See https://ipywidgets.readthedocs.io/en/stable/user_install.html\n",
      "  from .autonotebook import tqdm as notebook_tqdm\n"
     ]
    }
   ],
   "source": [
    "from __future__ import annotations\n",
    "\n",
    "import argparse\n",
    "import os\n",
    "import pathlib\n",
    "import subprocess\n",
    "import sys\n",
    "from typing import Callable, Union\n",
    "\n",
    "import dlib\n",
    "import huggingface_hub\n",
    "import numpy as np\n",
    "import PIL.Image\n",
    "import torch\n",
    "import torch.nn as nn\n",
    "import torchvision.transforms as T\n"
   ]
  },
  {
   "cell_type": "code",
   "execution_count": 2,
   "metadata": {},
   "outputs": [],
   "source": [
    "from mapper.datasets.latents_dataset_inference import LatentsDatasetInference\n",
    "from mapper.hairclip_mapper import HairCLIPMapper"
   ]
  },
  {
   "cell_type": "code",
   "execution_count": 3,
   "metadata": {},
   "outputs": [
    {
     "name": "stdout",
     "output_type": "stream",
     "text": [
      "Loading from checkpoint: /home/ishant/.cache/huggingface/hub/models--public-data--HairCLIP/snapshots/fead3e4468e56e3e32df67bee20a3c141620c605/hairclip.pt\n"
     ]
    }
   ],
   "source": [
    "def load_hairclip() -> nn.Module:\n",
    "        ckpt_path = huggingface_hub.hf_hub_download('public-data/HairCLIP',\n",
    "                                                    'hairclip.pt')\n",
    "        ckpt = torch.load(ckpt_path, map_location='cpu')\n",
    "        opts = ckpt['opts']\n",
    "        opts['device'] = \"cuda\"\n",
    "        opts['checkpoint_path'] = ckpt_path\n",
    "        opts['editing_type'] = 'both'\n",
    "        opts['input_type'] = 'text'\n",
    "        opts['hairstyle_description'] = '/home/ishant/Desktop/test2/HairCLIP/mapper/hairstyle_list.txt'\n",
    "        opts['color_description'] = 'red'\n",
    "        opts = argparse.Namespace(**opts)\n",
    "        model = HairCLIPMapper(opts)\n",
    "        model.to(\"cuda\")\n",
    "        model.eval()\n",
    "        return model\n",
    "hairclip = load_hairclip() "
   ]
  },
  {
   "cell_type": "code",
   "execution_count": 4,
   "metadata": {},
   "outputs": [],
   "source": [
    "def denormalize(tensor: torch.Tensor) -> torch.Tensor:\n",
    "        return torch.clamp((tensor + 1) / 2 * 255, 0, 255).to(torch.uint8)\n",
    "\n",
    "def postprocess(tensor: torch.Tensor) -> np.ndarray:\n",
    "        tensor = denormalize(tensor)\n",
    "        return tensor.cpu().numpy().transpose(1, 2, 0)"
   ]
  },
  {
   "cell_type": "code",
   "execution_count": 6,
   "metadata": {},
   "outputs": [],
   "source": [
    "\n",
    "def generate(editing_type: str, hairstyle_index: int,\n",
    "             color_description: str, latent: torch.Tensor) -> np.ndarray:\n",
    "\n",
    "    opts = hairclip.opts\n",
    "    opts.editing_type = editing_type\n",
    "    opts.color_description = color_description\n",
    "    if editing_type == 'color':\n",
    "        hairstyle_index = 0\n",
    "    device = torch.device(opts.device)\n",
    "    dataset = LatentsDatasetInference(latents=latent.unsqueeze(0).cpu(),\n",
    "                                      opts=opts)\n",
    "    w, hairstyle_text_inputs_list, color_text_inputs_list = dataset[0][:3]\n",
    "    w = w.unsqueeze(0).to(device)\n",
    "    hairstyle_text_inputs = hairstyle_text_inputs_list[\n",
    "        hairstyle_index].unsqueeze(0).to(device)\n",
    "    color_text_inputs = color_text_inputs_list[0].unsqueeze(0).to(device)\n",
    "    hairstyle_tensor_hairmasked = torch.Tensor([0]).unsqueeze(0).to(device)\n",
    "    color_tensor_hairmasked = torch.Tensor([0]).unsqueeze(0).to(device)\n",
    "    print(w.size())\n",
    "    print(hairstyle_text_inputs.size())\n",
    "    # print(color_text_inputs.size())\n",
    "    print(hairstyle_tensor_hairmasked.size())\n",
    "    \n",
    "    w_hat = w + 0.1 * hairclip.mapper(\n",
    "        w,\n",
    "        hairstyle_text_inputs,\n",
    "        color_text_inputs,\n",
    "        hairstyle_tensor_hairmasked,\n",
    "        color_tensor_hairmasked,\n",
    "    )\n",
    "    x_hat, _ = hairclip.decoder(\n",
    "        [w_hat],\n",
    "        input_is_latent=True,\n",
    "        return_latents=True,\n",
    "        randomize_noise=False,\n",
    "        truncation=1,\n",
    "    )\n",
    "    res = torch.clamp(x_hat[0].detach(), -1, 1)\n",
    "    res = postprocess(res)\n",
    "    return res"
   ]
  },
  {
   "cell_type": "code",
   "execution_count": 7,
   "metadata": {},
   "outputs": [],
   "source": [
    "loaded_latent_vectors = torch.load('inversion_codes/test5.pt')"
   ]
  },
  {
   "cell_type": "code",
   "execution_count": 7,
   "metadata": {},
   "outputs": [],
   "source": [
    "# print(loaded_latent_vectors.size())"
   ]
  },
  {
   "cell_type": "code",
   "execution_count": 32,
   "metadata": {},
   "outputs": [
    {
     "name": "stdout",
     "output_type": "stream",
     "text": [
      "torch.Size([1, 18, 512])\n",
      "torch.Size([1, 77])\n",
      "torch.Size([1, 1])\n"
     ]
    }
   ],
   "source": [
    "\n",
    "\n",
    "# Call the generate function with the loaded latent vectors\n",
    "editing_type = \"both\"\n",
    "hairstyle_index = 13 # Replace with your desired values\n",
    "color_description = \"blue\"\n",
    "result_image = generate(editing_type, hairstyle_index, color_description, loaded_latent_vectors['latent'])\n"
   ]
  },
  {
   "cell_type": "code",
   "execution_count": 33,
   "metadata": {},
   "outputs": [],
   "source": [
    "# loaded_latent_vectors = torch.load('train_faces.pt')\n",
    "# print(loaded_latent_vectors.size())"
   ]
  },
  {
   "cell_type": "code",
   "execution_count": 34,
   "metadata": {},
   "outputs": [
    {
     "data": {
      "text/plain": [
       "(1024, 1024, 3)"
      ]
     },
     "execution_count": 34,
     "metadata": {},
     "output_type": "execute_result"
    }
   ],
   "source": [
    "result_image.shape"
   ]
  }
 ],
 "metadata": {
  "kernelspec": {
   "display_name": "Python 3",
   "language": "python",
   "name": "python3"
  },
  "language_info": {
   "codemirror_mode": {
    "name": "ipython",
    "version": 3
   },
   "file_extension": ".py",
   "mimetype": "text/x-python",
   "name": "python",
   "nbconvert_exporter": "python",
   "pygments_lexer": "ipython3",
   "version": "3.8.10"
  }
 },
 "nbformat": 4,
 "nbformat_minor": 2
}
