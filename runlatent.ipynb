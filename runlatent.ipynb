{
 "cells": [
  {
   "cell_type": "code",
   "execution_count": 1,
   "metadata": {},
   "outputs": [
    {
     "name": "stderr",
     "output_type": "stream",
     "text": [
      "/home/ishant/.local/lib/python3.8/site-packages/tqdm/auto.py:22: TqdmWarning: IProgress not found. Please update jupyter and ipywidgets. See https://ipywidgets.readthedocs.io/en/stable/user_install.html\n",
      "  from .autonotebook import tqdm as notebook_tqdm\n"
     ]
    }
   ],
   "source": [
    "from __future__ import annotations\n",
    "\n",
    "import argparse\n",
    "import os\n",
    "import pathlib\n",
    "import subprocess\n",
    "import sys\n",
    "from typing import Callable, Union\n",
    "\n",
    "import dlib\n",
    "import huggingface_hub\n",
    "import numpy as np\n",
    "import PIL.Image\n",
    "import torch\n",
    "import torch.nn as nn\n",
    "import torchvision.transforms as T\n"
   ]
  },
  {
   "cell_type": "code",
   "execution_count": 2,
   "metadata": {},
   "outputs": [],
   "source": [
    "from mapper.datasets.latents_dataset_inference import LatentsDatasetInference\n",
    "from mapper.hairclip_mapper import HairCLIPMapper"
   ]
  },
  {
   "cell_type": "code",
   "execution_count": 4,
   "metadata": {},
   "outputs": [],
   "source": [
    "def load_hairclip() -> nn.Module:\n",
    "        ckpt_path = \"pretrained_models/hairclip.pt\"\n",
    "        ckpt = torch.load(ckpt_path, map_location='cpu')\n",
    "        opts = ckpt['opts']\n",
    "        opts['device'] = \"cpu\"\n",
    "        opts['checkpoint_path'] = ckpt_path\n",
    "        opts['editing_type'] = 'both'\n",
    "        opts['input_type'] = 'text'\n",
    "        opts['hairstyle_description'] = 'HairCLIP/mapper/hairstyle_list.txt'\n",
    "        opts['color_description'] = 'red'\n",
    "        opts = argparse.Namespace(**opts)\n",
    "        model = HairCLIPMapper(opts)\n",
    "        model.to(\"cpu\")\n",
    "        model.eval()\n",
    "        return model"
   ]
  },
  {
   "cell_type": "code",
   "execution_count": 5,
   "metadata": {},
   "outputs": [],
   "source": [
    "\n",
    "def generate(editing_type: str, hairstyle_index: int,\n",
    "             color_description: str, latent: torch.Tensor) -> np.ndarray:\n",
    "    hairclip = load_hairclip() \n",
    "    opts = hairclip.opts\n",
    "    opts.editing_type = editing_type\n",
    "    opts.color_description = color_description\n",
    "    if editing_type == 'color':\n",
    "        hairstyle_index = 0\n",
    "    device = torch.device(opts.device)\n",
    "    dataset = LatentsDatasetInference(latents=latent.unsqueeze(0).cpu(),\n",
    "                                      opts=opts)\n",
    "    w, hairstyle_text_inputs_list, color_text_inputs_list = dataset[0][:3]\n",
    "    w = w.unsqueeze(0).to(device)\n",
    "    hairstyle_text_inputs = hairstyle_text_inputs_list[\n",
    "        hairstyle_index].unsqueeze(0).to(device)\n",
    "    color_text_inputs = color_text_inputs_list[0].unsqueeze(0).to(device)\n",
    "    hairstyle_tensor_hairmasked = torch.Tensor([0]).unsqueeze(0).to(device)\n",
    "    color_tensor_hairmasked = torch.Tensor([0]).unsqueeze(0).to(device)\n",
    "    w_hat = w + 0.1 * hairclip.mapper(\n",
    "        w,\n",
    "        hairstyle_text_inputs,\n",
    "        color_text_inputs,\n",
    "        hairstyle_tensor_hairmasked,\n",
    "        color_tensor_hairmasked,\n",
    "    )\n",
    "    x_hat, _ = hairclip.decoder(\n",
    "        [w_hat],\n",
    "        input_is_latent=True,\n",
    "        return_latents=True,\n",
    "        randomize_noise=False,\n",
    "        truncation=1,\n",
    "    )\n",
    "    res = torch.clamp(x_hat[0].detach(), -1, 1)\n",
    "    res = postprocess(res)\n",
    "    return res"
   ]
  },
  {
   "cell_type": "code",
   "execution_count": null,
   "metadata": {},
   "outputs": [],
   "source": []
  }
 ],
 "metadata": {
  "kernelspec": {
   "display_name": "Python 3",
   "language": "python",
   "name": "python3"
  },
  "language_info": {
   "codemirror_mode": {
    "name": "ipython",
    "version": 3
   },
   "file_extension": ".py",
   "mimetype": "text/x-python",
   "name": "python",
   "nbconvert_exporter": "python",
   "pygments_lexer": "ipython3",
   "version": "3.8.10"
  }
 },
 "nbformat": 4,
 "nbformat_minor": 2
}
